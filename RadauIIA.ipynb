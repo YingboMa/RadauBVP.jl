{
 "cells": [
  {
   "cell_type": "markdown",
   "metadata": {},
   "source": [
    "# Radau IIA method ($s=3$, order 5)"
   ]
  },
  {
   "cell_type": "code",
   "execution_count": 1,
   "metadata": {
    "collapsed": false
   },
   "outputs": [],
   "source": [
    "using Autoreload\n",
    "import Logging\n",
    "using Plots\n",
    "pyplot()\n",
    "IJulia.clear_output(false)"
   ]
  },
  {
   "cell_type": "code",
   "execution_count": 2,
   "metadata": {
    "collapsed": false
   },
   "outputs": [],
   "source": [
    "arequire(\"RadauBVP\")\n",
    "IJulia.clear_output(false)"
   ]
  },
  {
   "cell_type": "code",
   "execution_count": 3,
   "metadata": {
    "collapsed": false
   },
   "outputs": [
    {
     "data": {
      "text/plain": [
       "Logger(root,INFO,Union{IO,Logging.SysLog}[Base.PipeEndpoint(open, 0 bytes waiting)],root)"
      ]
     },
     "execution_count": 3,
     "metadata": {},
     "output_type": "execute_result"
    }
   ],
   "source": [
    "Logging.configure(level=Logging.INFO)"
   ]
  },
  {
   "cell_type": "markdown",
   "metadata": {},
   "source": [
    "# Test the solver\n",
    "\n",
    "Test case problem: simple oscilator\n",
    "\n",
    "$$\n",
    "\\ddot{y} = -y\n",
    "$$\n",
    "\n",
    "Put in the form:\n",
    "\n",
    "\\begin{align*}\n",
    "\\dot{y} &= v\\\\\n",
    "\\dot{v} &= -y\n",
    "\\end{align*}\n",
    "\n",
    "And let's formulate it as BVP: $t=0,...,\\pi$ and $y(0) = 0$ and $v(\\pi) = -1$. Solution of this equation is\n",
    "\n",
    "$$y=\\sin{t}\\quad v = \\cos{t}$$\n",
    "\n",
    "Denote $\\boldsymbol{Y} = [y, v]$. Then\n",
    "\n",
    "\\begin{align*}\n",
    "\\dot{Y}_1 &= Y_2\\\\\n",
    "\\dot{Y}_2 &= -Y_1\n",
    "\\end{align*}\n",
    "\n",
    "And BC:\n",
    "\n",
    "\\begin{align*}\n",
    "Y_1(0) - 0 &= 0\\\\\n",
    "Y_2(\\pi)+1 &= 0\n",
    "\\end{align*}\n",
    "\n",
    "Jacobian of ODE equation:\n",
    "\n",
    "$$\n",
    "J_{\\text{ODE}} = \\left(\n",
    "\\begin{array}{cc}\n",
    "0 & 1\\\\\n",
    "-1 & 0\n",
    "\\end{array}\\right)\n",
    "$$\n",
    "\n",
    "Jacobian of BC:\n",
    "\n",
    "$$\n",
    "J_{\\text{BC}} = \\left(\\begin{array}{cccc}\n",
    "1 & 0 & 0 & 0\\\\\n",
    "0 & 0 & 0 & 1\n",
    "\\end{array}\\right)\n",
    "$$"
   ]
  },
  {
   "cell_type": "code",
   "execution_count": 4,
   "metadata": {
    "collapsed": false
   },
   "outputs": [
    {
     "data": {
      "text/plain": [
       "dodeeq! (generic function with 1 method)"
      ]
     },
     "execution_count": 4,
     "metadata": {},
     "output_type": "execute_result"
    }
   ],
   "source": [
    "function bc!(y0, yn, r)\n",
    "    r[1] = y0[1] - 0.0\n",
    "    r[2] = yn[2] - (-1.0)\n",
    "end\n",
    "\n",
    "function dbc!(y0, yn, jac)\n",
    "    jac[:,:] = 0.0\n",
    "    jac[1,1] = 1.0\n",
    "    jac[2,4] = 1.0\n",
    "end\n",
    "\n",
    "function odeeq!(t, y, dydt)\n",
    "    dydt[1] = y[2]\n",
    "    dydt[2] = -y[1]\n",
    "end\n",
    "\n",
    "function dodeeq!(t, y, jac)\n",
    "    jac[1,1] = 0.0\n",
    "    jac[1,2] = 1.0\n",
    "    jac[2,1] = -1.0\n",
    "    jac[2,2] = 0.0\n",
    "end"
   ]
  },
  {
   "cell_type": "code",
   "execution_count": 75,
   "metadata": {
    "collapsed": false
   },
   "outputs": [
    {
     "name": "stderr",
     "output_type": "stream",
     "text": [
      "WARNING: redefining constant y0\n"
     ]
    },
    {
     "data": {
      "text/plain": [
       "2×13 Array{Float64,2}:\n",
       " 0.0  0.0  0.0  0.0  0.0  0.0  0.0  0.0  0.0  0.0  0.0  0.0  0.0\n",
       " 0.0  0.0  0.0  0.0  0.0  0.0  0.0  0.0  0.0  0.0  0.0  0.0  0.0"
      ]
     },
     "execution_count": 75,
     "metadata": {},
     "output_type": "execute_result"
    }
   ],
   "source": [
    "nt = 5\n",
    "const y0 = zeros(Float64, (2, 3*(nt-1)+1))"
   ]
  },
  {
   "cell_type": "code",
   "execution_count": 76,
   "metadata": {
    "collapsed": false,
    "scrolled": true
   },
   "outputs": [
    {
     "name": "stdout",
     "output_type": "stream",
     "text": [
      "  0.052943 seconds (7.55 k allocations: 916.563 KB)\n"
     ]
    },
    {
     "data": {
      "text/plain": [
       "(true,[0.0,0.121777,0.506542,0.785398,0.907175,1.29194,1.5708,1.69257,2.07734,2.35619,2.47797,2.86274,3.14159],\n",
       "[0.0 0.121714 … 0.275135 1.7115e-5; 1.00013 0.993077 … -0.961089 -1.0],\n",
       "\n",
       "Results of Nonlinear Solver Algorithm\n",
       " * Algorithm: Trust-region with dogleg and autoscaling\n",
       " * Starting Point: [0.0,1.0,0.0,1.0,0.0,1.0,0.0,1.0,0.0,1.0,0.0,1.0,0.0,1.0,0.0,1.0,0.0,1.0,0.0,1.0,0.0,1.0,0.0,1.0,0.0,1.0]\n",
       " * Zero: [0.0,1.00013,0.121714,0.993077,0.485099,0.874219,0.70717,0.707176,0.788249,0.616131,0.961152,0.275145,1.00006,8.55801e-6,0.993016,-0.121698,0.874168,-0.485061,0.707138,-0.70712,0.616099,-0.788194,0.275135,-0.961089,1.7115e-5,-1.0]\n",
       " * Inf-norm of residuals: 0.000000\n",
       " * Iterations: 2\n",
       " * Convergence: true\n",
       "   * |x - x'| < 0.0e+00: false\n",
       "   * |f(x)| < 1.0e-08: true\n",
       " * Function Calls (f): 3\n",
       " * Jacobian Calls (df/dx): 3)"
      ]
     },
     "execution_count": 76,
     "metadata": {},
     "output_type": "execute_result"
    }
   ],
   "source": [
    "for n=1:3*(nt-1)+1\n",
    "    y0[:, n] = [0.0, 1.0]\n",
    "end\n",
    "\n",
    "@time (conv, ttot, ytot, result) = RadauBVP.radau3(bc!, odeeq!, dbc!, dodeeq!, y0, 0.0, convert(Float64, π))"
   ]
  },
  {
   "cell_type": "code",
   "execution_count": 78,
   "metadata": {
    "collapsed": false
   },
   "outputs": [],
   "source": [
    "yres = ytot[1,:]\n",
    "vres = ytot[2,:]\n",
    "nothing"
   ]
  },
  {
   "cell_type": "code",
   "execution_count": 31,
   "metadata": {
    "collapsed": false
   },
   "outputs": [],
   "source": [
    "let t = linspace(0.0, π, 100)\n",
    "    \n",
    "    global possol = sin.(t)\n",
    "    global vsol = cos.(t)\n",
    "    global ysol = Array(Float64, 2*100)\n",
    "    \n",
    "    ysol[1:2:end-1] = possol\n",
    "    ysol[2:2:end] = vsol\n",
    "end\n",
    "nothing"
   ]
  },
  {
   "cell_type": "code",
   "execution_count": 79,
   "metadata": {
    "collapsed": false,
    "scrolled": true
   },
   "outputs": [
    {
     "data": {
      "text/html": [
       "<img src=\"data:image/png;base64,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\" />"
      ]
     },
     "execution_count": 79,
     "metadata": {},
     "output_type": "execute_result"
    }
   ],
   "source": [
    "p1 = plot(\n",
    "linspace(0.0, π, 100),\n",
    "possol,\n",
    "title = \"Coordinate (n = $nt)\",\n",
    "label = \"Exact\")\n",
    "plot!(ttot, yres, label = \"Numerical\", linetype = :scatter)\n",
    "\n",
    "p2 = plot(\n",
    "linspace(0.0, π, 100),\n",
    "vsol,\n",
    "title = \"Velocity (n = $nt)\",\n",
    "label = \"Exact\")\n",
    "plot!(ttot, vres, label = \"Numerical\", linetype = :scatter)\n",
    "\n",
    "plot(p1,p2)\n"
   ]
  }
 ],
 "metadata": {
  "kernelspec": {
   "display_name": "Julia 0.5.0",
   "language": "julia",
   "name": "julia-0.5"
  },
  "language_info": {
   "file_extension": ".jl",
   "mimetype": "application/julia",
   "name": "julia",
   "version": "0.5.0"
  }
 },
 "nbformat": 4,
 "nbformat_minor": 1
}
